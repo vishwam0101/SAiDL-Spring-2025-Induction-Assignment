{
 "cells": [
  {
   "cell_type": "markdown",
   "metadata": {
    "id": "Bar-2YkxhV4h"
   },
   "source": [
    "## PyTorch Computer Vision\n",
    "* [`torchvision datasets`](https://pytorch.org/vision/stable/datasets.html)\n",
    "* [`torchvision models`](https://pytorch.org/vision/stable/search.html?q=torchvision+models&check_keywords=yes&area=default#)"
   ]
  },
  {
   "cell_type": "code",
   "execution_count": null,
   "metadata": {
    "executionInfo": {
     "elapsed": 7,
     "status": "ok",
     "timestamp": 1743943591422,
     "user": {
      "displayName": "_InfeXion_",
      "userId": "04132897395954311743"
     },
     "user_tz": -330
    },
    "id": "MmMoOuphh0iq"
   },
   "outputs": [],
   "source": [
    "# Import Torch\n",
    "import torch\n",
    "from torch import nn\n",
    "import torch.nn.functional as F\n",
    "import numpy as np\n",
    "\n",
    "# Import torchvision\n",
    "import torchvision\n",
    "from torchvision import datasets\n",
    "from torchvision import transforms\n",
    "from torchvision.transforms import ToTensor\n",
    "\n",
    "# Import marplotlib\n",
    "import matplotlib.pyplot as plt"
   ]
  },
  {
   "cell_type": "code",
   "execution_count": null,
   "metadata": {
    "executionInfo": {
     "elapsed": 3,
     "status": "ok",
     "timestamp": 1743943592924,
     "user": {
      "displayName": "_InfeXion_",
      "userId": "04132897395954311743"
     },
     "user_tz": -330
    },
    "id": "PmQlhWP-qUio"
   },
   "outputs": [],
   "source": [
    "from torchvision import datasets, transforms\n",
    "\n",
    "# Define train and test transforms\n",
    "train_transform = transforms.Compose([\n",
    "    transforms.RandomCrop(32, padding=4),            # Data augmentation\n",
    "    transforms.RandomHorizontalFlip(),               # More augmentation\n",
    "    transforms.ToTensor(),                           # Convert to tensor\n",
    "    transforms.Normalize(mean=[0.4914, 0.4822, 0.4465],\n",
    "                         std=[0.2023, 0.1994, 0.2010])  # Normalize CIFAR-10\n",
    "])\n",
    "\n",
    "test_transform = transforms.Compose([\n",
    "    transforms.ToTensor(),\n",
    "    transforms.Normalize(mean=[0.4914, 0.4822, 0.4465],\n",
    "                         std=[0.2023, 0.1994, 0.2010])\n",
    "])"
   ]
  },
  {
   "cell_type": "code",
   "execution_count": null,
   "metadata": {
    "executionInfo": {
     "elapsed": 1611,
     "status": "ok",
     "timestamp": 1743943596241,
     "user": {
      "displayName": "_InfeXion_",
      "userId": "04132897395954311743"
     },
     "user_tz": -330
    },
    "id": "Ku3dyK3Ph3JI"
   },
   "outputs": [],
   "source": [
    "train_data = datasets.CIFAR10(\n",
    "    root = \"data\",\n",
    "    train = True,\n",
    "    download = True,\n",
    "    transform = ToTensor(),#train_transform,\n",
    "    target_transform= None\n",
    ")\n",
    "\n",
    "test_data = datasets.CIFAR10(\n",
    "    root = \"data\",\n",
    "    train=False,\n",
    "    download=True,\n",
    "    transform=ToTensor()\n",
    ")"
   ]
  },
  {
   "cell_type": "code",
   "execution_count": null,
   "metadata": {
    "colab": {
     "base_uri": "https://localhost:8080/"
    },
    "executionInfo": {
     "elapsed": 15,
     "status": "ok",
     "timestamp": 1743943596258,
     "user": {
      "displayName": "_InfeXion_",
      "userId": "04132897395954311743"
     },
     "user_tz": -330
    },
    "id": "uRRF3ZrFi_mI",
    "outputId": "73d9f952-b70f-460f-9830-18adf9848c27"
   },
   "outputs": [],
   "source": [
    "len(train_data), len(test_data)"
   ]
  },
  {
   "cell_type": "code",
   "execution_count": null,
   "metadata": {
    "executionInfo": {
     "elapsed": 1,
     "status": "ok",
     "timestamp": 1743943597401,
     "user": {
      "displayName": "_InfeXion_",
      "userId": "04132897395954311743"
     },
     "user_tz": -330
    },
    "id": "_f582BFkNLt_"
   },
   "outputs": [],
   "source": [
    "class_names = train_data.classes"
   ]
  },
  {
   "cell_type": "code",
   "execution_count": null,
   "metadata": {
    "colab": {
     "base_uri": "https://localhost:8080/"
    },
    "executionInfo": {
     "elapsed": 35,
     "status": "ok",
     "timestamp": 1743943598943,
     "user": {
      "displayName": "_InfeXion_",
      "userId": "04132897395954311743"
     },
     "user_tz": -330
    },
    "id": "AVhV_5QujQFG",
    "outputId": "f2ffc45e-d08f-4602-8ce1-fb08b43e687a"
   },
   "outputs": [],
   "source": [
    "class_to_idx = train_data.class_to_idx\n",
    "class_to_idx"
   ]
  },
  {
   "cell_type": "code",
   "execution_count": null,
   "metadata": {
    "executionInfo": {
     "elapsed": 2,
     "status": "ok",
     "timestamp": 1743943600240,
     "user": {
      "displayName": "_InfeXion_",
      "userId": "04132897395954311743"
     },
     "user_tz": -330
    },
    "id": "GGhPRsQWlKRY"
   },
   "outputs": [],
   "source": [
    "image, label = train_data[torch.randint(0 , len(train_data), size=[1])]"
   ]
  },
  {
   "cell_type": "code",
   "execution_count": null,
   "metadata": {
    "colab": {
     "base_uri": "https://localhost:8080/"
    },
    "executionInfo": {
     "elapsed": 3,
     "status": "ok",
     "timestamp": 1743943410079,
     "user": {
      "displayName": "_InfeXion_",
      "userId": "04132897395954311743"
     },
     "user_tz": -330
    },
    "id": "LXDBHmWgKQUX",
    "outputId": "2cc21122-45f9-4427-dde3-b1e0a9782511"
   },
   "outputs": [],
   "source": [
    "image.shape, label"
   ]
  },
  {
   "cell_type": "code",
   "execution_count": null,
   "metadata": {
    "colab": {
     "base_uri": "https://localhost:8080/"
    },
    "executionInfo": {
     "elapsed": 2,
     "status": "ok",
     "timestamp": 1743943410082,
     "user": {
      "displayName": "_InfeXion_",
      "userId": "04132897395954311743"
     },
     "user_tz": -330
    },
    "id": "zKPWqRkcMrtd",
    "outputId": "9e5c3624-eeb4-483b-b236-6424ddc7267b"
   },
   "outputs": [],
   "source": [
    "image = image.permute(1,2,0)\n",
    "image.shape"
   ]
  },
  {
   "cell_type": "markdown",
   "metadata": {
    "id": "qXivy2_lOapH"
   },
   "source": [
    "### Importing and visualization of data:"
   ]
  },
  {
   "cell_type": "code",
   "execution_count": null,
   "metadata": {
    "colab": {
     "base_uri": "https://localhost:8080/",
     "height": 169
    },
    "executionInfo": {
     "elapsed": 27,
     "status": "ok",
     "timestamp": 1743943410109,
     "user": {
      "displayName": "_InfeXion_",
      "userId": "04132897395954311743"
     },
     "user_tz": -330
    },
    "id": "4q2JgkQ0K9KA",
    "outputId": "0a81926b-df38-4f6c-b4b7-5e10f9e4cbd0"
   },
   "outputs": [],
   "source": [
    "image, label = train_data[torch.randint(0 , len(train_data), size=[1])]\n",
    "image = image.permute(1,2,0)\n",
    "\n",
    "plt.figure(figsize=(1.5, 1.5))\n",
    "plt.imshow(image)\n",
    "plt.axis(False)\n",
    "\n",
    "print(class_names[label])"
   ]
  },
  {
   "cell_type": "markdown",
   "metadata": {
    "id": "n_bzF8LIQ6xl"
   },
   "source": [
    "Examples of Training Data:"
   ]
  },
  {
   "cell_type": "code",
   "execution_count": null,
   "metadata": {
    "colab": {
     "base_uri": "https://localhost:8080/",
     "height": 521
    },
    "executionInfo": {
     "elapsed": 558,
     "status": "ok",
     "timestamp": 1743943611033,
     "user": {
      "displayName": "_InfeXion_",
      "userId": "04132897395954311743"
     },
     "user_tz": -330
    },
    "id": "aTVeq3PvMj78",
    "outputId": "abbd7032-05a3-478a-afcd-db47e5dc880c"
   },
   "outputs": [],
   "source": [
    "torch.manual_seed(69420)\n",
    "fig = plt.figure(figsize=(6,6))\n",
    "rows , columns =4, 4\n",
    "for i in range(1, rows*columns + 1):\n",
    "    random_idx = torch.randint(0, len(train_data), size=[1])\n",
    "    img, label = train_data[random_idx]\n",
    "    img = img.permute(1,2,0)\n",
    "    fig.add_subplot(rows, columns, i)\n",
    "    plt.imshow(img)\n",
    "    plt.title(class_names[label])\n",
    "    plt.axis(False)"
   ]
  },
  {
   "cell_type": "markdown",
   "metadata": {
    "id": "PFmXVCbWSmUp"
   },
   "source": [
    "Flipping the labels of the training data:"
   ]
  },
  {
   "cell_type": "code",
   "execution_count": null,
   "metadata": {
    "executionInfo": {
     "elapsed": 5,
     "status": "ok",
     "timestamp": 1743943615085,
     "user": {
      "displayName": "_InfeXion_",
      "userId": "04132897395954311743"
     },
     "user_tz": -330
    },
    "id": "HuPOEOlLO6q9"
   },
   "outputs": [],
   "source": [
    "import numpy as np\n",
    "import random\n",
    "\n",
    "def inject_symmetric_noise(dataset, noise_rate=0.4, num_classes=10):\n",
    "    noisy_labels = np.array(dataset.targets)\n",
    "    n_samples = len(noisy_labels)\n",
    "    n_noisy = int(noise_rate * n_samples)\n",
    "\n",
    "    noisy_indices = np.random.choice(n_samples, n_noisy, replace=False)\n",
    "\n",
    "    for idx in noisy_indices:\n",
    "        original_label = noisy_labels[idx]\n",
    "        noisy_label = random.choice([i for i in range(num_classes) if i != original_label])\n",
    "        noisy_labels[idx] = noisy_label\n",
    "\n",
    "    dataset.targets = noisy_labels.tolist()"
   ]
  },
  {
   "cell_type": "markdown",
   "metadata": {
    "id": "iOPnOyveSyqr"
   },
   "source": [
    "Examples of mislabeled data:"
   ]
  },
  {
   "cell_type": "code",
   "execution_count": null,
   "metadata": {
    "colab": {
     "base_uri": "https://localhost:8080/",
     "height": 521
    },
    "executionInfo": {
     "elapsed": 602,
     "status": "ok",
     "timestamp": 1743943618273,
     "user": {
      "displayName": "_InfeXion_",
      "userId": "04132897395954311743"
     },
     "user_tz": -330
    },
    "id": "nI7wMvV9Rnsp",
    "outputId": "da4ddfe5-316b-4e63-da37-3ca09845922f"
   },
   "outputs": [],
   "source": [
    "torch.manual_seed(69420)\n",
    "fig = plt.figure(figsize=(6,6))\n",
    "rows , columns =4, 4\n",
    "for i in range(1, rows*columns + 1):\n",
    "    random_idx = torch.randint(0, len(train_data), size=[1])\n",
    "    img, label = train_data[random_idx]\n",
    "    img = img.permute(1,2,0)\n",
    "    fig.add_subplot(rows, columns, i)\n",
    "    plt.imshow(img)\n",
    "    plt.title(class_names[label])\n",
    "    plt.axis(False)"
   ]
  },
  {
   "cell_type": "markdown",
   "metadata": {
    "id": "Ld2S43sFS4sx"
   },
   "source": [
    "Let us now divide our data into mini_batches for efficient computing"
   ]
  },
  {
   "cell_type": "code",
   "execution_count": null,
   "metadata": {
    "executionInfo": {
     "elapsed": 5,
     "status": "ok",
     "timestamp": 1743943621280,
     "user": {
      "displayName": "_InfeXion_",
      "userId": "04132897395954311743"
     },
     "user_tz": -330
    },
    "id": "hrRr0dzNS8tR"
   },
   "outputs": [],
   "source": [
    "from torch.utils.data import DataLoader\n",
    "\n",
    "BATCH_SIZE = 32\n",
    "\n",
    "train_dataloader = DataLoader(dataset=train_data,\n",
    "                              batch_size=BATCH_SIZE,\n",
    "                              shuffle=True)\n",
    "test_dataloader = DataLoader(dataset=test_data,\n",
    "                              batch_size=BATCH_SIZE,\n",
    "                              shuffle=False)"
   ]
  },
  {
   "cell_type": "code",
   "execution_count": null,
   "metadata": {
    "colab": {
     "base_uri": "https://localhost:8080/"
    },
    "executionInfo": {
     "elapsed": 10,
     "status": "ok",
     "timestamp": 1743943622857,
     "user": {
      "displayName": "_InfeXion_",
      "userId": "04132897395954311743"
     },
     "user_tz": -330
    },
    "id": "j_pBaPJRS9Ft",
    "outputId": "2a81f551-7548-48a3-dbe8-30a75af1b18b"
   },
   "outputs": [],
   "source": [
    "len(train_dataloader), len(test_dataloader)"
   ]
  },
  {
   "cell_type": "code",
   "execution_count": null,
   "metadata": {
    "colab": {
     "base_uri": "https://localhost:8080/"
    },
    "executionInfo": {
     "elapsed": 17,
     "status": "ok",
     "timestamp": 1743943623914,
     "user": {
      "displayName": "_InfeXion_",
      "userId": "04132897395954311743"
     },
     "user_tz": -330
    },
    "id": "1aDLwyrxTAiY",
    "outputId": "af3c5dbd-93b3-4d76-dd3c-a33bff80a7c6"
   },
   "outputs": [],
   "source": [
    "train_features_batch, train_labels_batch = next(iter(train_dataloader))\n",
    "train_features_batch.shape, train_labels_batch.shape"
   ]
  },
  {
   "cell_type": "markdown",
   "metadata": {
    "id": "C26B3ju2Vy0N"
   },
   "source": [
    "### The following classes are an implementation of `ResNet-18` style architechture so that I can get good accuracy on the data"
   ]
  },
  {
   "cell_type": "code",
   "execution_count": null,
   "metadata": {
    "executionInfo": {
     "elapsed": 6,
     "status": "ok",
     "timestamp": 1743943626202,
     "user": {
      "displayName": "_InfeXion_",
      "userId": "04132897395954311743"
     },
     "user_tz": -330
    },
    "id": "8eTeQvmSTLTM"
   },
   "outputs": [],
   "source": [
    "class BasicBlock(nn.Module):\n",
    "    expansion = 1\n",
    "    def __init__(self, in_channels, out_channels, stride=1, downsample=None):\n",
    "        super(BasicBlock, self).__init__()\n",
    "        self.conv1 = nn.Conv2d(in_channels, out_channels, kernel_size=3,\n",
    "                               stride=stride, padding=1, bias=False)\n",
    "        self.bn1 = nn.BatchNorm2d(out_channels)\n",
    "        self.relu = nn.ReLU(inplace=True)\n",
    "\n",
    "        self.conv2 = nn.Conv2d(out_channels, out_channels, kernel_size=3,\n",
    "                               stride=1, padding=1, bias=False)\n",
    "        self.bn2 = nn.BatchNorm2d(out_channels)\n",
    "\n",
    "        self.downsample = downsample\n",
    "\n",
    "    def forward(self, x):\n",
    "        identity = x\n",
    "\n",
    "        out = self.relu(self.bn1(self.conv1(x)))\n",
    "        out = self.bn2(self.conv2(out))\n",
    "\n",
    "        if self.downsample is not None:\n",
    "            identity = self.downsample(x)\n",
    "\n",
    "        out += identity\n",
    "        out = self.relu(out)\n",
    "\n",
    "        return out"
   ]
  },
  {
   "cell_type": "code",
   "execution_count": null,
   "metadata": {
    "executionInfo": {
     "elapsed": 42,
     "status": "ok",
     "timestamp": 1743943628883,
     "user": {
      "displayName": "_InfeXion_",
      "userId": "04132897395954311743"
     },
     "user_tz": -330
    },
    "id": "BkxYNvTLZabd"
   },
   "outputs": [],
   "source": [
    "class ResNet(nn.Module):\n",
    "    def __init__(self, block, layers, num_classes=10):\n",
    "        super(ResNet, self).__init__()\n",
    "        self.in_channels = 64\n",
    "\n",
    "        # CIFAR-10-specific initial conv (smaller kernel, no maxpool)\n",
    "        self.conv1 = nn.Conv2d(3, 64, kernel_size=3, stride=1, padding=1, bias=False)\n",
    "        self.bn1 = nn.BatchNorm2d(64)\n",
    "        self.relu = nn.ReLU(inplace=True)\n",
    "\n",
    "        # Residual layers\n",
    "        self.layer1 = self._make_layer(block, 64,  layers[0])\n",
    "        self.layer2 = self._make_layer(block, 128, layers[1], stride=2)\n",
    "        self.layer3 = self._make_layer(block, 256, layers[2], stride=2)\n",
    "        self.layer4 = self._make_layer(block, 512, layers[3], stride=2)\n",
    "\n",
    "        self.avgpool = nn.AdaptiveAvgPool2d((1, 1))  # global avg pooling\n",
    "        self.fc = nn.Linear(512 * block.expansion, num_classes)\n",
    "\n",
    "    def _make_layer(self, block, out_channels, blocks, stride=1):\n",
    "        downsample = None\n",
    "\n",
    "        if stride != 1 or self.in_channels != out_channels * block.expansion:\n",
    "            downsample = nn.Sequential(\n",
    "                nn.Conv2d(self.in_channels, out_channels * block.expansion,\n",
    "                          kernel_size=1, stride=stride, bias=False),\n",
    "                nn.BatchNorm2d(out_channels * block.expansion)\n",
    "            )\n",
    "\n",
    "        layers = [block(self.in_channels, out_channels, stride, downsample)]\n",
    "        self.in_channels = out_channels * block.expansion\n",
    "\n",
    "        for _ in range(1, blocks):\n",
    "            layers.append(block(self.in_channels, out_channels))\n",
    "\n",
    "        return nn.Sequential(*layers)\n",
    "\n",
    "    def forward(self, x):\n",
    "        x = self.relu(self.bn1(self.conv1(x)))\n",
    "\n",
    "        x = self.layer1(x)  # 32x32\n",
    "        x = self.layer2(x)  # 16x16\n",
    "        x = self.layer3(x)  # 8x8\n",
    "        x = self.layer4(x)  # 4x4\n",
    "\n",
    "        x = self.avgpool(x)  # 1x1\n",
    "        x = torch.flatten(x, 1)\n",
    "        x = self.fc(x)\n",
    "\n",
    "        return x"
   ]
  },
  {
   "cell_type": "code",
   "execution_count": null,
   "metadata": {
    "executionInfo": {
     "elapsed": 3,
     "status": "ok",
     "timestamp": 1743943633665,
     "user": {
      "displayName": "_InfeXion_",
      "userId": "04132897395954311743"
     },
     "user_tz": -330
    },
    "id": "rCy3XJozaRm9"
   },
   "outputs": [],
   "source": [
    "def resnet18_cifar10():\n",
    "    return ResNet(BasicBlock, [2, 2, 2, 2], num_classes=10)"
   ]
  },
  {
   "cell_type": "code",
   "execution_count": null,
   "metadata": {
    "executionInfo": {
     "elapsed": 146,
     "status": "ok",
     "timestamp": 1743943637090,
     "user": {
      "displayName": "_InfeXion_",
      "userId": "04132897395954311743"
     },
     "user_tz": -330
    },
    "id": "w2YJNQk2afCm"
   },
   "outputs": [],
   "source": [
    "model = resnet18_cifar10()"
   ]
  },
  {
   "cell_type": "markdown",
   "metadata": {
    "id": "7kjxXSxgbh9s"
   },
   "source": [
    "### We will now create our own NCE loss and import optimizers and other loss functions"
   ]
  },
  {
   "cell_type": "code",
   "execution_count": null,
   "metadata": {
    "executionInfo": {
     "elapsed": 2,
     "status": "ok",
     "timestamp": 1743943642179,
     "user": {
      "displayName": "_InfeXion_",
      "userId": "04132897395954311743"
     },
     "user_tz": -330
    },
    "id": "O0muJJkubqZO"
   },
   "outputs": [],
   "source": [
    "import torch\n",
    "import torch.nn as nn\n",
    "import torch.nn.functional as F\n",
    "\n",
    "class NormalizedCrossEntropyLoss(nn.Module):\n",
    "    def __init__(self):\n",
    "        super(NormalizedCrossEntropyLoss, self).__init__()\n",
    "\n",
    "    def forward(self, logits, targets):\n",
    "        # Normalize logits (along class dimension)\n",
    "        norm_logits = F.log_softmax(logits, dim=1)  # log(softmax) = log-probabilities\n",
    "        norm_logits = norm_logits - norm_logits.logsumexp(dim=1, keepdim=True)  # double normalization\n",
    "\n",
    "        # Negative log-likelihood loss\n",
    "        loss = F.nll_loss(norm_logits, targets)\n",
    "        return loss"
   ]
  },
  {
   "cell_type": "code",
   "execution_count": null,
   "metadata": {
    "executionInfo": {
     "elapsed": 7,
     "status": "ok",
     "timestamp": 1743943643395,
     "user": {
      "displayName": "_InfeXion_",
      "userId": "04132897395954311743"
     },
     "user_tz": -330
    },
    "id": "iiYenKRKcoC1"
   },
   "outputs": [],
   "source": [
    "class APLoss(nn.Module):\n",
    "    def __init__(self, alpha=0.5):\n",
    "        super().__init__()\n",
    "        self.alpha = alpha\n",
    "        self.ce = nn.CrossEntropyLoss()\n",
    "        self.mae = nn.L1Loss()\n",
    "\n",
    "    def forward(self, logits, targets):\n",
    "        # CE expects class indices\n",
    "        ce_loss = self.ce(logits, targets)\n",
    "\n",
    "        # Convert class indices to one-hot for L1/MAE\n",
    "        one_hot = F.one_hot(targets, num_classes=logits.size(1)).float()\n",
    "        probs = F.softmax(logits, dim=1)\n",
    "\n",
    "        mae_loss = self.mae(probs, one_hot)\n",
    "\n",
    "        return self.alpha * ce_loss + (1 - self.alpha) * mae_loss"
   ]
  },
  {
   "cell_type": "code",
   "execution_count": null,
   "metadata": {
    "executionInfo": {
     "elapsed": 2,
     "status": "ok",
     "timestamp": 1743943647638,
     "user": {
      "displayName": "_InfeXion_",
      "userId": "04132897395954311743"
     },
     "user_tz": -330
    },
    "id": "G-vY0l1HaxBm"
   },
   "outputs": [],
   "source": [
    "CE_loss = nn.CrossEntropyLoss()\n",
    "NCE_loss = NormalizedCrossEntropyLoss()\n",
    "APL_loss = APLoss(alpha=0.5)\n",
    "optimizer = torch.optim.SGD(model.parameters(), lr=0.001)#, momentum=0.9, weight_decay=5e-4)\n",
    "#scheduler = torch.optim.lr_scheduler.MultiStepLR(optimizer, milestones=[100, 150], gamma=0.1)"
   ]
  },
  {
   "cell_type": "code",
   "execution_count": null,
   "metadata": {
    "executionInfo": {
     "elapsed": 3,
     "status": "ok",
     "timestamp": 1743943649455,
     "user": {
      "displayName": "_InfeXion_",
      "userId": "04132897395954311743"
     },
     "user_tz": -330
    },
    "id": "Ixj5MjNZdb8K"
   },
   "outputs": [],
   "source": [
    "device=(\"cuda\")"
   ]
  },
  {
   "cell_type": "markdown",
   "metadata": {
    "id": "tN2RNJxqa4d_"
   },
   "source": [
    "# I am now going to define a training and testing loop now for reusability for all 3 kinds of loss"
   ]
  },
  {
   "cell_type": "code",
   "execution_count": null,
   "metadata": {
    "executionInfo": {
     "elapsed": 8,
     "status": "ok",
     "timestamp": 1743940569700,
     "user": {
      "displayName": "_InfeXion_",
      "userId": "04132897395954311743"
     },
     "user_tz": -330
    },
    "id": "E984DrbkgDHJ"
   },
   "outputs": [],
   "source": [
    "training_loss=[]\n",
    "training_acc=[]\n",
    "\n",
    "testing_acc=[]\n",
    "testing_loss=[]\n",
    "\n",
    "train_loss_ce=[]\n",
    "train_acc_ce=[]\n",
    "test_acc_ce=[]\n",
    "\n",
    "train_loss_nce=[]\n",
    "train_acc_nce=[]\n",
    "test_acc_nce=[]\n",
    "\n",
    "train_loss_apl=[]\n",
    "train_acc_apl=[]\n",
    "test_acc_apl=[]\n",
    "\n",
    "epoch_count=[]"
   ]
  },
  {
   "cell_type": "code",
   "execution_count": null,
   "metadata": {
    "executionInfo": {
     "elapsed": 25,
     "status": "ok",
     "timestamp": 1743943668452,
     "user": {
      "displayName": "_InfeXion_",
      "userId": "04132897395954311743"
     },
     "user_tz": -330
    },
    "id": "ycuWpgvdJGOm"
   },
   "outputs": [],
   "source": [
    "train_loss_ce=[]\n",
    "train_acc_ce=[]\n",
    "test_acc_ce=[]"
   ]
  },
  {
   "cell_type": "code",
   "execution_count": null,
   "metadata": {
    "executionInfo": {
     "elapsed": 54,
     "status": "ok",
     "timestamp": 1743943692179,
     "user": {
      "displayName": "_InfeXion_",
      "userId": "04132897395954311743"
     },
     "user_tz": -330
    },
    "id": "ThJGM_GDdZAa"
   },
   "outputs": [],
   "source": [
    "def train_step(model, data_loader, loss_fn, optimizer, accuracy_fn, device=device):\n",
    "    train_loss, train_acc = 0, 0\n",
    "    model.to(device)\n",
    "    model.train()\n",
    "\n",
    "    for batch, (X, y) in enumerate(data_loader):\n",
    "        X, y = X.to(device), y.to(device)\n",
    "        y_pred = model(X)\n",
    "\n",
    "        loss = loss_fn(y_pred, y)\n",
    "        train_loss += loss.item()\n",
    "\n",
    "        train_acc += accuracy_fn(y_true=y, y_pred=y_pred.argmax(dim=1))\n",
    "\n",
    "        optimizer.zero_grad()\n",
    "        loss.backward()\n",
    "        optimizer.step()\n",
    "\n",
    "    train_loss /= len(data_loader)\n",
    "    train_acc /= len(data_loader)\n",
    "\n",
    "    train_loss_ce.append(train_loss)\n",
    "    train_acc_ce.append(train_acc)\n",
    "\n",
    "    epoch_count.append(epoch)\n",
    "\n",
    "    print(f\"Train loss: {train_loss:.5f} | Train accuracy: {train_acc:.2f}%\")\n",
    "\n",
    "def test_step(data_loader, model, loss_fn, accuracy_fn, device=device):\n",
    "    test_loss, test_acc = 0, 0\n",
    "    model.to(device)\n",
    "    model.eval()\n",
    "\n",
    "    with torch.inference_mode():\n",
    "        for X, y in data_loader:\n",
    "            X, y = X.to(device), y.to(device)\n",
    "            test_pred = model(X)\n",
    "\n",
    "            test_loss += loss_fn(test_pred, y).item()\n",
    "            test_acc += accuracy_fn(y_true=y, y_pred=test_pred.argmax(dim=1))\n",
    "\n",
    "    test_loss /= len(data_loader)\n",
    "    test_acc /= len(data_loader)\n",
    "\n",
    "    test_acc_ce.append(test_acc)\n",
    "\n",
    "    print(f\"Test loss: {test_loss:.5f} | Test accuracy: {test_acc:.2f}%\\n\")"
   ]
  },
  {
   "cell_type": "markdown",
   "metadata": {
    "id": "081x81nRbgvd"
   },
   "source": [
    "Defining functions which can be used to plot graphs:"
   ]
  },
  {
   "cell_type": "code",
   "execution_count": null,
   "metadata": {
    "executionInfo": {
     "elapsed": 56,
     "status": "ok",
     "timestamp": 1743940569763,
     "user": {
      "displayName": "_InfeXion_",
      "userId": "04132897395954311743"
     },
     "user_tz": -330
    },
    "id": "dRUk1DNpbmHd"
   },
   "outputs": [],
   "source": [
    "def plot_loss(training_loss, testing_loss, epoch_count):\n",
    "    plt.plot(epoch_count, training_loss, label=\"Training Loss\", c=\"r\")\n",
    "    plt.plot(epoch_count, testing_loss, label=\"Testing Loss\", c=\"b\")\n",
    "    plt.title(\"Training and Testing Loss\")\n",
    "    plt.xlabel(\"Epochs\")\n",
    "    plt.ylabel(\"Loss\")\n",
    "    plt.legend()"
   ]
  },
  {
   "cell_type": "markdown",
   "metadata": {
    "id": "xrV25u0seeTS"
   },
   "source": [
    "This github repo is from the youtuber **Daniel Bourke**,\n",
    "I have used the calculate accuracy function from this.\n",
    "\n",
    "[Github Repo raw](https://raw.githubusercontent.com/mrdbourke/pytorch-deep-learning/refs/heads/main/helper_functions.py)"
   ]
  },
  {
   "cell_type": "code",
   "execution_count": null,
   "metadata": {
    "colab": {
     "base_uri": "https://localhost:8080/"
    },
    "executionInfo": {
     "elapsed": 12,
     "status": "ok",
     "timestamp": 1743943697312,
     "user": {
      "displayName": "_InfeXion_",
      "userId": "04132897395954311743"
     },
     "user_tz": -330
    },
    "id": "Q0VG9ODCeRLN",
    "outputId": "67120541-4639-4e92-b89d-195c8b47f4dc"
   },
   "outputs": [],
   "source": [
    "from os.path import isfile\n",
    "import requests\n",
    "from pathlib import Path\n",
    "\n",
    "if Path(\"helper_functions.py\").is_file():\n",
    "    print(\"helper_functions.py already exists, skipping download...\")\n",
    "else:\n",
    "    print(\"Downloading helper_functions.py...\")\n",
    "    request = requests.get(\"https://raw.githubusercontent.com/mrdbourke/pytorch-deep-learning/refs/heads/main/helper_functions.py\")\n",
    "    with open(\"helper_functions.py\", \"wb\") as f:\n",
    "        f.write(request.content)"
   ]
  },
  {
   "cell_type": "markdown",
   "metadata": {
    "id": "KG1P4_vXeBtA"
   },
   "source": [
    "I also imported a timer to check how much the code benefitted from changing the device to CUDA"
   ]
  },
  {
   "cell_type": "code",
   "execution_count": null,
   "metadata": {
    "executionInfo": {
     "elapsed": 1,
     "status": "ok",
     "timestamp": 1743943699347,
     "user": {
      "displayName": "_InfeXion_",
      "userId": "04132897395954311743"
     },
     "user_tz": -330
    },
    "id": "3hCbTy1aeITh"
   },
   "outputs": [],
   "source": [
    "from timeit import default_timer as timer\n",
    "def train_time(start: float,\n",
    "               end: float,\n",
    "               device: torch.device = None):\n",
    "    total_time = end -start\n",
    "    print(f\"Train time on {device}: {total_time: .3f} seconds\")\n",
    "    return total_time"
   ]
  },
  {
   "cell_type": "markdown",
   "metadata": {
    "id": "HtpeEei1iG7Y"
   },
   "source": [
    "### Let's First train the model on data without any label noise"
   ]
  },
  {
   "cell_type": "code",
   "execution_count": null,
   "metadata": {
    "colab": {
     "base_uri": "https://localhost:8080/",
     "height": 1000,
     "referenced_widgets": [
      "3195c950a22d4331b3cd9a6e5a1a6720",
      "132bf7cab6ca46fc8bbf47df73e02c88",
      "49a6138305ae43e190ee49114bd0acd6",
      "e07b2743509748c9b1efdfe5048118b7",
      "7824f243aa7d4dcc8fec7ed4f5c9abca",
      "b61a0538e03d4bd1956b8dac5727e19c",
      "b5ad0ce3456944198662bdede179f27b",
      "9122c78c12e547a6a0e8a00b526c5703",
      "5bd67b3a886c421db9ae784b3bcd1429",
      "b4c6f2d3c204451daa5622f1785f9182",
      "0e03c6b832f947c0b0d1ff2a01b37571"
     ]
    },
    "executionInfo": {
     "elapsed": 938269,
     "status": "ok",
     "timestamp": 1743934099507,
     "user": {
      "displayName": "Vishwam Tiwari",
      "userId": "15340783594719017935"
     },
     "user_tz": -330
    },
    "id": "q_ig4uxuiK8X",
    "outputId": "57cadeb3-0e64-43fb-9dfd-c62822985b3d"
   },
   "outputs": [],
   "source": [
    "from tqdm.auto import tqdm\n",
    "from helper_functions import accuracy_fn\n",
    "\n",
    "start_time = timer()\n",
    "epochs = 23\n",
    "\n",
    "for epoch in tqdm(range(epochs)):\n",
    "    print(f\"Epoch: {epoch}\\n-----\")\n",
    "    train_step(model=model,\n",
    "               data_loader=train_dataloader,\n",
    "               loss_fn=CE_loss,\n",
    "               optimizer=optimizer,\n",
    "               accuracy_fn=accuracy_fn,\n",
    "               device = device)\n",
    "    test_step(model=model,\n",
    "              data_loader=test_dataloader,\n",
    "              loss_fn=CE_loss,\n",
    "              accuracy_fn=accuracy_fn,\n",
    "              device=device)\n",
    "end_time= timer()\n",
    "time = train_time(start=start_time, end= end_time, device = device)"
   ]
  },
  {
   "cell_type": "code",
   "execution_count": null,
   "metadata": {
    "id": "UREP_GwweEG6"
   },
   "outputs": [],
   "source": [
    "epoch_count = [0,1,2,3,4,5,6,7,8,9,10,11,12,13,14,15,16,17,18,19,20,21,22,23,24,25]\n",
    "def plot_accuracy(epoch_count, training_acc, testing_acc):\n",
    "    plt.plot(epoch_count, testing_acc, c=\"b\", label=\"Testing Accuracy\")\n",
    "    plt.plot(epoch_count, training_acc, c=\"r\", label=\"Training Accuracy\")\n",
    "    plt.title(\"Training and Testing Accuracy\")\n",
    "    plt.xlabel(\"Epochs\")\n",
    "    plt.ylabel(\"Accuracy\")\n",
    "    plt.legend()"
   ]
  },
  {
   "cell_type": "code",
   "execution_count": null,
   "metadata": {
    "colab": {
     "base_uri": "https://localhost:8080/",
     "height": 472
    },
    "executionInfo": {
     "elapsed": 157,
     "status": "ok",
     "timestamp": 1743935132526,
     "user": {
      "displayName": "Vishwam Tiwari",
      "userId": "15340783594719017935"
     },
     "user_tz": -330
    },
    "id": "JlS8koF1okI4",
    "outputId": "cb5c70a2-12b2-4a4f-9d5d-36d13b6d7979"
   },
   "outputs": [],
   "source": [
    "plot_loss(epoch_count=epoch_count, training_loss=training_loss, testing_loss=testing_loss)"
   ]
  },
  {
   "cell_type": "code",
   "execution_count": null,
   "metadata": {
    "colab": {
     "base_uri": "https://localhost:8080/",
     "height": 472
    },
    "executionInfo": {
     "elapsed": 226,
     "status": "ok",
     "timestamp": 1743935140767,
     "user": {
      "displayName": "Vishwam Tiwari",
      "userId": "15340783594719017935"
     },
     "user_tz": -330
    },
    "id": "rmov83Cgol3J",
    "outputId": "8585f554-eda0-4c64-c1cf-d32c7ccc9dcd"
   },
   "outputs": [],
   "source": [
    "plot_accuracy(epoch_count=epoch_count, training_acc=training_acc, testing_acc=testing_acc)"
   ]
  },
  {
   "cell_type": "markdown",
   "metadata": {
    "id": "Eo6JnxlliN-B"
   },
   "source": [
    "### Now let's start training on noisy data"
   ]
  },
  {
   "cell_type": "code",
   "execution_count": null,
   "metadata": {
    "executionInfo": {
     "elapsed": 39,
     "status": "ok",
     "timestamp": 1743943706509,
     "user": {
      "displayName": "_InfeXion_",
      "userId": "04132897395954311743"
     },
     "user_tz": -330
    },
    "id": "hvbdreZtsAip"
   },
   "outputs": [],
   "source": [
    "inject_symmetric_noise(train_data, noise_rate=0.5)"
   ]
  },
  {
   "cell_type": "markdown",
   "metadata": {
    "id": "gCjaGB9Kg18W"
   },
   "source": [
    "**`CE_LOSS`**"
   ]
  },
  {
   "cell_type": "code",
   "execution_count": null,
   "metadata": {
    "colab": {
     "base_uri": "https://localhost:8080/",
     "height": 760,
     "referenced_widgets": [
      "d58e89f9c0ad4e8dad7e8cd659fe0e71",
      "2ab5f770049f4d1fa474ee6737508f36",
      "ebe2b9751c2a47e8957b2c9ccea10346",
      "a9b201a96c7f4617872622edc7b7a407",
      "9ad914c7fdfe4acaa1ea76e80eba6922",
      "8d1ae10240324892a13d90ad30c9adf6",
      "edf76e24695d4786818b85ab4b2d52d1",
      "aae4f323f99e4ff6bdc2f2d0626cf9e3",
      "4a53b1d5458f4614bac4d7cedb109f1a",
      "b65e3e25199f4cd48ec33f7519e540a6",
      "85c2b7fb8e824134ba555ce2c7a3ad94"
     ]
    },
    "executionInfo": {
     "elapsed": 413161,
     "status": "ok",
     "timestamp": 1743944123116,
     "user": {
      "displayName": "_InfeXion_",
      "userId": "04132897395954311743"
     },
     "user_tz": -330
    },
    "id": "6wxDbX8LdrDY",
    "outputId": "a5e95b9e-98db-453d-9274-7367fd07ecf7"
   },
   "outputs": [],
   "source": [
    "from tqdm.auto import tqdm\n",
    "from helper_functions import accuracy_fn\n",
    "\n",
    "start_time = timer()\n",
    "epochs = 8\n",
    "\n",
    "for epoch in tqdm(range(epochs)):\n",
    "    print(f\"Epoch: {epoch}\\n-----\")\n",
    "    train_step(model=model,\n",
    "               data_loader=train_dataloader,\n",
    "               loss_fn=CE_loss,\n",
    "               optimizer=optimizer,\n",
    "               accuracy_fn=accuracy_fn,\n",
    "               device = device)\n",
    "    test_step(model=model,\n",
    "              data_loader=test_dataloader,\n",
    "              loss_fn=CE_loss,\n",
    "              accuracy_fn=accuracy_fn,\n",
    "              device=device)\n",
    "end_time= timer()\n",
    "time = train_time(start=start_time, end= end_time, device = device)"
   ]
  },
  {
   "cell_type": "markdown",
   "metadata": {
    "id": "QOLJpzOKg8dY"
   },
   "source": [
    "**`NCE_LOSS`**"
   ]
  },
  {
   "cell_type": "code",
   "execution_count": null,
   "metadata": {
    "colab": {
     "base_uri": "https://localhost:8080/",
     "height": 760,
     "referenced_widgets": [
      "56f434b521a141f19440d2493db3083d",
      "1629e038d332407a8078e47100e2ce57",
      "6fbbacd0c0cf441c8854ce0e4146b735",
      "94d66c7f534b4e278adb0f33c095a7b9",
      "56e0b4fc8755453f970d3c1a72ab18c1",
      "61a7efb53a8b40829932fc69e962e563",
      "e1f976c3c7f445cfbcc809a61ad75c1c",
      "09a57f2d9a8842b0b4e6435220fb52cb",
      "05d14195d5a248c589a908a54c951ef9",
      "a92e0b63213f49fdafcb5a566611b6fb",
      "f18b59fe60b04e2ba12498a850237114"
     ]
    },
    "executionInfo": {
     "elapsed": 417559,
     "status": "ok",
     "timestamp": 1743940997886,
     "user": {
      "displayName": "_InfeXion_",
      "userId": "04132897395954311743"
     },
     "user_tz": -330
    },
    "id": "oCibNNjkg-n7",
    "outputId": "fed69cab-f895-4fd6-e0a9-b02ed68846bc"
   },
   "outputs": [],
   "source": [
    "from tqdm.auto import tqdm\n",
    "from helper_functions import accuracy_fn\n",
    "\n",
    "start_time = timer()\n",
    "epochs = 8\n",
    "\n",
    "for epoch in tqdm(range(epochs)):\n",
    "    print(f\"Epoch: {epoch}\\n-----\")\n",
    "    train_step(model=model,\n",
    "               data_loader=train_dataloader,\n",
    "               loss_fn=NCE_loss,\n",
    "               optimizer=optimizer,\n",
    "               accuracy_fn=accuracy_fn,\n",
    "               device = device)\n",
    "    test_step(model=model,\n",
    "              data_loader=test_dataloader,\n",
    "              loss_fn=NCE_loss,\n",
    "              accuracy_fn=accuracy_fn,\n",
    "              device=device)\n",
    "end_time= timer()\n",
    "time = train_time(start=start_time, end= end_time, device = device)"
   ]
  },
  {
   "cell_type": "code",
   "execution_count": null,
   "metadata": {
    "colab": {
     "base_uri": "https://localhost:8080/",
     "height": 472
    },
    "executionInfo": {
     "elapsed": 227,
     "status": "ok",
     "timestamp": 1743942794358,
     "user": {
      "displayName": "_InfeXion_",
      "userId": "04132897395954311743"
     },
     "user_tz": -330
    },
    "id": "7fRCfqLOEzpD",
    "outputId": "067e141f-1985-476b-a318-bb67478e70f7"
   },
   "outputs": [],
   "source": [
    "e_c = [0,1,2,3,4,5,6,7]\n",
    "test_acc_nce\n",
    "plt.plot(e_c, test_acc_nce, c=\"b\", label=\"Testing Accuracy\")\n",
    "plt.xlabel(\"Epochs\")\n",
    "plt.ylabel(\"Accuracy (%)\")\n",
    "plt.title(\"Testing Accuracy vs Epochs\")\n",
    "plt.legend()\n",
    "plt.grid(True)\n",
    "plt.show()"
   ]
  },
  {
   "cell_type": "code",
   "execution_count": null,
   "metadata": {
    "colab": {
     "base_uri": "https://localhost:8080/"
    },
    "executionInfo": {
     "elapsed": 8,
     "status": "ok",
     "timestamp": 1743939804664,
     "user": {
      "displayName": "_InfeXion_",
      "userId": "04132897395954311743"
     },
     "user_tz": -330
    },
    "id": "edCj-fyr5nPE",
    "outputId": "3c7a914d-5ee8-41d9-bff4-2c40e2295a3e"
   },
   "outputs": [],
   "source": [
    "idx = np.argmax(test_acc_nce)\n",
    "print(f\"For NCE\")\n",
    "print(f\"Train loss: {train_loss_nce[idx]} | Train acc: {train_acc_nce[idx]}% | Test acc: {test_acc_nce[idx]}%\")"
   ]
  },
  {
   "cell_type": "markdown",
   "metadata": {
    "id": "aBGaKCfLhDhX"
   },
   "source": [
    "**`APL_loss`**"
   ]
  },
  {
   "cell_type": "code",
   "execution_count": null,
   "metadata": {
    "colab": {
     "base_uri": "https://localhost:8080/",
     "height": 760,
     "referenced_widgets": [
      "c116096773f949a58f27a553e8126e02",
      "fb4abc113a0f4faf9eeaaaf6b3aa2222",
      "299c9b4e9e894126b165299f5b75fcab",
      "14b19719a47a4d1bae2462123660e84a",
      "6996b6c6cd9e47cb9f197cb92e516078",
      "e1ed74b57ada4bd59034972232e3e8db",
      "50ef61b6b5b1446f8bd9c231086f93e2",
      "e7d017a22dc64e338c641d6798b430b7",
      "55bf4aeeac5c49758db847610a7dada2",
      "0d889f6b799a49d0b5fc38b56576e679",
      "1a3617c5e1fd4cccb7f8d3fc6d0d9d8a"
     ]
    },
    "executionInfo": {
     "elapsed": 414564,
     "status": "ok",
     "timestamp": 1743943356108,
     "user": {
      "displayName": "_InfeXion_",
      "userId": "04132897395954311743"
     },
     "user_tz": -330
    },
    "id": "N42qzeLwhI_P",
    "outputId": "4fe5c9fc-97a8-4e32-8b83-fbe9ce6e71ab"
   },
   "outputs": [],
   "source": [
    "from tqdm.auto import tqdm\n",
    "from helper_functions import accuracy_fn\n",
    "\n",
    "start_time = timer()\n",
    "epochs = 8\n",
    "\n",
    "for epoch in tqdm(range(epochs)):\n",
    "    print(f\"Epoch: {epoch}\\n-----\")\n",
    "    train_step(model=model,\n",
    "               data_loader=train_dataloader,\n",
    "               loss_fn=APL_loss,\n",
    "               optimizer=optimizer,\n",
    "               accuracy_fn=accuracy_fn,\n",
    "               device = device)\n",
    "    test_step(model=model,\n",
    "              data_loader=test_dataloader,\n",
    "              loss_fn=APL_loss,\n",
    "              accuracy_fn=accuracy_fn,\n",
    "              device=device)\n",
    "end_time= timer()\n",
    "time = train_time(start=start_time, end= end_time, device = device)"
   ]
  },
  {
   "cell_type": "code",
   "execution_count": null,
   "metadata": {
    "colab": {
     "base_uri": "https://localhost:8080/",
     "height": 489
    },
    "executionInfo": {
     "elapsed": 333,
     "status": "ok",
     "timestamp": 1743944663599,
     "user": {
      "displayName": "_InfeXion_",
      "userId": "04132897395954311743"
     },
     "user_tz": -330
    },
    "id": "D3RPa0IqLKME",
    "outputId": "84ae6ce4-6cd6-4fee-987f-04361a3531e6"
   },
   "outputs": [],
   "source": [
    "epoch_count = [0,1,2,3,4,5,6,7]\n",
    "plt.title(\"Comparison of Different loss types\")\n",
    "plt.plot(epoch_count, train_acc_apl, linestyle=\"--\", color=\"r\", label=\"APL train Acc.\")\n",
    "plt.plot(epoch_count, train_acc_ce, linestyle=\"--\", color=\"g\", label=\"CE train Acc.\")\n",
    "plt.plot(epoch_count, train_acc_nce, linestyle=\"--\", color=\"b\", label=\"NCE train Acc.\")\n",
    "plt.plot(epoch_count, test_acc_apl, color=\"r\", label=\"APL testing Acc.\")\n",
    "plt.plot(epoch_count, test_acc_ce, color=\"g\", label=\"CE testing Acc.\")\n",
    "plt.plot(epoch_count, test_acc_nce, color=\"b\", label=\"NCE testing Acc.\")\n",
    "plt.xlabel(\"epochs\")\n",
    "plt.ylabel(\"Accuracy\")\n",
    "plt.legend()"
   ]
  },
  {
   "cell_type": "code",
   "execution_count": null,
   "metadata": {
    "id": "tggcuL7xLzyD"
   },
   "outputs": [],
   "source": []
  }
 ],
 "metadata": {
  "accelerator": "GPU",
  "colab": {
   "gpuType": "T4",
   "provenance": []
  },
  "kernelspec": {
   "display_name": "Python 3",
   "name": "python3"
  },
  "language_info": {
   "name": "python"
  }
 },
 "nbformat": 4,
 "nbformat_minor": 0
}
